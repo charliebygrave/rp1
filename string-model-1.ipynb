{
 "cells": [
  {
   "cell_type": "code",
   "execution_count": null,
   "metadata": {},
   "outputs": [],
   "source": [
    "# string model 1 - OR network (no complexes)"
   ]
  },
  {
   "cell_type": "code",
   "execution_count": 1,
   "metadata": {},
   "outputs": [],
   "source": [
    "import boolean_model_helper as boolean\n",
    "from string_model_builder import string2definition, add_process_edgelist, add_mtb_edgelist"
   ]
  },
  {
   "cell_type": "code",
   "execution_count": 2,
   "metadata": {},
   "outputs": [],
   "source": [
    "definition = string2definition('string-network-1.csv', 'True')\n",
    "definition = add_process_edgelist(definition, 'string-1-process-edgelist.csv', 'True')\n",
    "\n",
    "# fp = open('model.txt', 'w')\n",
    "# fp.write(definition)\n",
    "# fp.close()"
   ]
  },
  {
   "cell_type": "code",
   "execution_count": 3,
   "metadata": {},
   "outputs": [],
   "source": [
    "# make manual definition modifications\n",
    "\n",
    "# definition = file('model.txt').read()\n",
    "# print definition"
   ]
  },
  {
   "cell_type": "code",
   "execution_count": null,
   "metadata": {},
   "outputs": [],
   "source": [
    "model = boolean.run_model(definition)"
   ]
  },
  {
   "cell_type": "code",
   "execution_count": null,
   "metadata": {},
   "outputs": [],
   "source": [
    "boolean.plot_nodes(model,nodes=['PtpA','VCP','Phagosome_maturation','Phagolysosome_assembly','Phagosome_acidification'])"
   ]
  },
  {
   "cell_type": "code",
   "execution_count": null,
   "metadata": {},
   "outputs": [],
   "source": [
    "new_definition = boolean.knockout(definition, ['VCP', 'ASPSCR1'])"
   ]
  },
  {
   "cell_type": "code",
   "execution_count": null,
   "metadata": {},
   "outputs": [],
   "source": [
    "new_model = boolean.run_model(new_definition)"
   ]
  },
  {
   "cell_type": "code",
   "execution_count": null,
   "metadata": {},
   "outputs": [],
   "source": [
    "boolean.plot_nodes(new_model,nodes=['PtpA','VCP','ASPSCR1','Phagosome_maturation','Phagolysosome_assembly','Phagosome_acidification'])"
   ]
  },
  {
   "cell_type": "code",
   "execution_count": null,
   "metadata": {},
   "outputs": [],
   "source": [
    "new_definition = boolean.switch(definition, on=['PtpA'])"
   ]
  },
  {
   "cell_type": "code",
   "execution_count": null,
   "metadata": {},
   "outputs": [],
   "source": [
    "new_model = boolean.run_model(new_definition)"
   ]
  },
  {
   "cell_type": "code",
   "execution_count": null,
   "metadata": {},
   "outputs": [],
   "source": [
    "boolean.plot_nodes(new_model,nodes=['PtpA','VCP', 'ASPSCR1','Phagosome_maturation','Phagolysosome_assembly','Phagosome_acidification'])\n"
   ]
  },
  {
   "cell_type": "code",
   "execution_count": null,
   "metadata": {},
   "outputs": [],
   "source": [
    "new_definition = boolean.knockout(new_definition, ['VCP', 'ASPSCR1'])"
   ]
  },
  {
   "cell_type": "code",
   "execution_count": null,
   "metadata": {},
   "outputs": [],
   "source": [
    "new_model = boolean.run_model(new_definition) "
   ]
  },
  {
   "cell_type": "code",
   "execution_count": null,
   "metadata": {},
   "outputs": [],
   "source": [
    "boolean.plot_nodes(new_model,nodes=['PtpA','VCP','Phagosome_maturation', 'ASPSCR1', 'Phagolysosome_assembly','Phagosome_acidification'])"
   ]
  },
  {
   "cell_type": "code",
   "execution_count": null,
   "metadata": {},
   "outputs": [],
   "source": [
    "print new_definition"
   ]
  },
  {
   "cell_type": "code",
   "execution_count": null,
   "metadata": {},
   "outputs": [],
   "source": []
  }
 ],
 "metadata": {
  "kernelspec": {
   "display_name": "rp1",
   "language": "python",
   "name": "rp1"
  },
  "language_info": {
   "codemirror_mode": {
    "name": "ipython",
    "version": 2
   },
   "file_extension": ".py",
   "mimetype": "text/x-python",
   "name": "python",
   "nbconvert_exporter": "python",
   "pygments_lexer": "ipython2",
   "version": "2.7.15"
  }
 },
 "nbformat": 4,
 "nbformat_minor": 2
}
