{
 "cells": [
  {
   "cell_type": "markdown",
   "metadata": {},
   "source": [
    "# string model 1 - simple network"
   ]
  },
  {
   "cell_type": "code",
   "execution_count": 1,
   "metadata": {},
   "outputs": [
    {
     "ename": "ImportError",
     "evalue": "cannot import name add_process2definition",
     "output_type": "error",
     "traceback": [
      "\u001b[0;31m---------------------------------------------------------------------------\u001b[0m",
      "\u001b[0;31mImportError\u001b[0m                               Traceback (most recent call last)",
      "\u001b[0;32m<ipython-input-1-c941e8f29d37>\u001b[0m in \u001b[0;36m<module>\u001b[0;34m()\u001b[0m\n\u001b[1;32m      1\u001b[0m \u001b[0;32mimport\u001b[0m \u001b[0mboolean_model_helper\u001b[0m \u001b[0;32mas\u001b[0m \u001b[0mbm\u001b[0m\u001b[0;34m\u001b[0m\u001b[0m\n\u001b[1;32m      2\u001b[0m \u001b[0;32mimport\u001b[0m \u001b[0mstring_model_drawer\u001b[0m \u001b[0;32mas\u001b[0m \u001b[0mdraw\u001b[0m\u001b[0;34m\u001b[0m\u001b[0m\n\u001b[0;32m----> 3\u001b[0;31m \u001b[0;32mfrom\u001b[0m \u001b[0mstring_model_builder_1\u001b[0m \u001b[0;32mimport\u001b[0m \u001b[0mstring2definition\u001b[0m\u001b[0;34m,\u001b[0m \u001b[0madd_process2definition\u001b[0m\u001b[0;34m,\u001b[0m \u001b[0madd_mtb2definition\u001b[0m\u001b[0;34m\u001b[0m\u001b[0m\n\u001b[0m",
      "\u001b[0;31mImportError\u001b[0m: cannot import name add_process2definition"
     ]
    }
   ],
   "source": [
    "import boolean_model_helper as bm\n",
    "import string_model_drawer as draw\n",
    "from string_model_builder_1 import string2definition, add_process2definition, add_mtb2definition"
   ]
  },
  {
   "cell_type": "code",
   "execution_count": null,
   "metadata": {},
   "outputs": [],
   "source": [
    "mtb = [\"Eis\" , \"esxA\" ,\"esxH_esxG\" ,\"IpdC\" ,\"ndkA\" ,\"PPE2\" ,\"PstS1\" ,\"PtpA\" ,\"Rv2779c\" ,\"SapM\"]\n",
    "hit = ['AP1B1','ARL10','ASPSCR1','CHMP2A','KIF6','CLVS2','CDC42EP3','CHMP2B','GGA1','GOLT1B','HIP1R','VPS26B','PKD1L2','RIMS2','VCP']"
   ]
  },
  {
   "cell_type": "code",
   "execution_count": null,
   "metadata": {},
   "outputs": [],
   "source": [
    "definition = string2definition('string-network-1.csv', True)\n",
    "definition = add_process2definition(definition, 'string-1-process-edgelist.csv', True)\n",
    "hit = [factor for factor in hit if factor in definition]\n",
    "hit"
   ]
  },
  {
   "cell_type": "markdown",
   "metadata": {},
   "source": [
    "1 mtb on/off"
   ]
  },
  {
   "cell_type": "code",
   "execution_count": null,
   "metadata": {},
   "outputs": [],
   "source": [
    "mtb_off = add_mtb2definition(definition, 'mtb-edgelist.csv', False)\n",
    "mtb = [factor for factor in mtb if factor in mtb_off]\n",
    "mtb\n"
   ]
  },
  {
   "cell_type": "code",
   "execution_count": null,
   "metadata": {},
   "outputs": [],
   "source": [
    "model = bm.run_model(mtb_off)\n",
    "bm.plot_nodes(model, ['Phagosome_acidification','Phagosome_maturation','Phagolysosome_assembly'] + mtb)"
   ]
  },
  {
   "cell_type": "code",
   "execution_count": null,
   "metadata": {},
   "outputs": [],
   "source": [
    "mtb_on = add_mtb2definition(definition, 'mtb-edgelist.csv', 'True')\n",
    "model = bm.run_model(mtb_on)\n",
    "bm.plot_nodes(model, ['Phagosome_acidification','Phagosome_maturation','Phagolysosome_assembly'] + mtb)"
   ]
  },
  {
   "cell_type": "code",
   "execution_count": null,
   "metadata": {},
   "outputs": [],
   "source": [
    "for factor in mtb:\n",
    "    mtb_test = bm.switch(mtb_off, on=[factor])\n",
    "    model = bm.run_model(mtb_test)\n",
    "    bm.plot_nodes(model, ['Phagosome_acidification','Phagosome_maturation','Phagolysosome_assembly'] + mtb)"
   ]
  },
  {
   "cell_type": "code",
   "execution_count": null,
   "metadata": {},
   "outputs": [],
   "source": [
    "draw.draw2definitions('string-network-1.csv', add_mtb='mtb-edgelist.csv', add_process='string-1-process-edgelist.csv')"
   ]
  },
  {
   "cell_type": "code",
   "execution_count": null,
   "metadata": {},
   "outputs": [],
   "source": []
  },
  {
   "cell_type": "code",
   "execution_count": null,
   "metadata": {},
   "outputs": [],
   "source": []
  },
  {
   "cell_type": "code",
   "execution_count": null,
   "metadata": {},
   "outputs": [],
   "source": []
  },
  {
   "cell_type": "code",
   "execution_count": null,
   "metadata": {},
   "outputs": [],
   "source": []
  },
  {
   "cell_type": "code",
   "execution_count": null,
   "metadata": {},
   "outputs": [],
   "source": []
  }
 ],
 "metadata": {
  "kernelspec": {
   "display_name": "rp1",
   "language": "python",
   "name": "rp1"
  },
  "language_info": {
   "codemirror_mode": {
    "name": "ipython",
    "version": 2
   },
   "file_extension": ".py",
   "mimetype": "text/x-python",
   "name": "python",
   "nbconvert_exporter": "python",
   "pygments_lexer": "ipython2",
   "version": "2.7.15"
  }
 },
 "nbformat": 4,
 "nbformat_minor": 2
}
