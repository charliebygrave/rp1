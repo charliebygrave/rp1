{
 "cells": [
  {
   "cell_type": "markdown",
   "metadata": {},
   "source": [
    "# string model 1 - OR network (no complexes)"
   ]
  },
  {
   "cell_type": "code",
   "execution_count": 1,
   "metadata": {},
   "outputs": [],
   "source": [
    "import boolean_model_helper as bm\n",
    "from string_model_builder_1 import string2definition, add_process_edgelist, add_mtb_edgelist"
   ]
  },
  {
   "cell_type": "code",
   "execution_count": 2,
   "metadata": {},
   "outputs": [],
   "source": [
    "definition = string2definition('string-network-1.csv', 'True')\n",
    "definition = add_process_edgelist(definition, 'string-1-process-edgelist.csv', 'True')"
   ]
  },
  {
   "cell_type": "markdown",
   "metadata": {},
   "source": [
    "### 1 mtb off"
   ]
  },
  {
   "cell_type": "code",
   "execution_count": 3,
   "metadata": {},
   "outputs": [
    {
     "name": "stdout",
     "output_type": "stream",
     "text": [
      "#initial conditions\n",
      "AP1B1 = True\n",
      "ASPSCR1 = True\n",
      "ATP6V1A = True\n",
      "ATP6V1B2 = True\n",
      "ATP6V1D = True\n",
      "ATP6V1E1 = True\n",
      "ATP6V1F = True\n",
      "ATP6V1G1 = True\n",
      "ATP6V1H = True\n",
      "B2M = True\n",
      "CALR = True\n",
      "CD1B = True\n",
      "CD1D = True\n",
      "CD8A = True\n",
      "CHMP2A = True\n",
      "CHMP2B = True\n",
      "CHMP3 = True\n",
      "CHMP4B = True\n",
      "CLVS2 = True\n",
      "DERL1 = True\n",
      "GGA1 = True\n",
      "HGS = True\n",
      "HIP1R = True\n",
      "HLA-A = True\n",
      "HLA-B = True\n",
      "HLA-C = True\n",
      "HLA-E = True\n",
      "HLA-G = True\n",
      "KLRC1 = True\n",
      "KLRD1 = True\n",
      "KPNA1 = True\n",
      "KPNA2 = True\n",
      "KPNB1 = True\n",
      "NSFL1C = True\n",
      "NUTF2 = True\n",
      "RAB5A = True\n",
      "RAB7A = True\n",
      "RAN = True\n",
      "STAM = True\n",
      "TSG101 = True\n",
      "UBXN7 = True\n",
      "UFD1L = True\n",
      "VCP = True\n",
      "VPS33B = True\n",
      "XPO1 = True\n",
      "XPO5 = True\n",
      "\n",
      "#rules\n",
      "NUTF2 *= KPNA2 or KPNB1 or RAN\n",
      "ATP6V1D *= ATP6V1G1 or ATP6V1B2 or ATP6V1E1 or ATP6V1H or ATP6V1F or ATP6V1A\n",
      "CD1D *= CD1B or B2M\n",
      "ATP6V1F *= ATP6V1D or ATP6V1E1 or ATP6V1A or ATP6V1B2 or UBXN7 or ATP6V1H or ATP6V1G1\n",
      "ATP6V1A *= ATP6V1D or ATP6V1E1 or ATP6V1G1 or ATP6V1F or ATP6V1H or ATP6V1B2\n",
      "KLRD1 *= HLA-E or HLA-A or B2M or KLRC1\n",
      "HLA-C *= CALR or KPNA2 or CD8A or HLA-G or HLA-A or HLA-B or HLA-E or B2M\n",
      "HLA-B *= CALR or HLA-C or HLA-E or HLA-A or CD8A or HLA-G or B2M\n",
      "CHMP4B *= STAM or HGS or TSG101 or CHMP2B or CHMP3 or CHMP2A\n",
      "TSG101 *= CHMP4B or RAB7A or XPO1 or HIP1R or CHMP2B or CHMP2A or STAM or CHMP3 or HGS\n",
      "HLA-G *= CALR or HLA-C or HLA-E or HLA-A or CD8A or HLA-B or KLRC1 or B2M\n",
      "ATP6V1H *= ATP6V1D or ATP6V1E1 or ATP6V1A or ATP6V1B2 or ATP6V1G1 or ATP6V1F\n",
      "HLA-E *= CALR or HLA-C or CD8A or HLA-A or HLA-G or HLA-B or KLRD1 or KLRC1 or B2M\n",
      "CHMP2B *= CHMP4B or TSG101 or STAM or HGS or CHMP3 or CHMP2A\n",
      "B2M *= CALR or CD1B or CD1D or HLA-C or HLA-E or KLRD1 or HLA-A or CD8A or HLA-B or HLA-G or KLRC1 or KPNA2\n",
      "CHMP2A *= CHMP4B or TSG101 or CHMP2B or HGS or STAM or CHMP3\n",
      "CHMP3 *= CHMP4B or TSG101 or CHMP2B or HGS or STAM or CHMP2A\n",
      "CD1B *= CD1D or B2M\n",
      "STAM *= CHMP4B or TSG101 or CHMP2B or HGS or CHMP3 or CHMP2A\n",
      "HIP1R *= TSG101 or AP1B1\n",
      "XPO1 *= TSG101 or RAN\n",
      "XPO5 *= RAN\n",
      "VPS33B *= UFD1L\n",
      "RAN *= NUTF2 or XPO5 or KPNB1 or KPNA1 or XPO1 or KPNA2\n",
      "DERL1 *= HLA-A or VCP\n",
      "NSFL1C *= UFD1L or UBXN7 or ASPSCR1 or VCP\n",
      "AP1B1 *= HIP1R or CLVS2\n",
      "UBXN7 *= UFD1L or ATP6V1B2 or ASPSCR1 or NSFL1C or ATP6V1F or VCP\n",
      "HLA-A *= DERL1 or CALR or HLA-C or HLA-E or KLRD1 or HLA-G or HLA-B or KLRC1 or CD8A or B2M\n",
      "KLRC1 *= HLA-E or KLRD1 or HLA-A or HLA-G or B2M\n",
      "RAB7A *= TSG101 or RAB5A\n",
      "RAB5A *= RAB7A or GGA1\n",
      "KPNA1 *= KPNB1 or RAN\n",
      "KPNB1 *= NUTF2 or KPNA1 or RAN or KPNA2\n",
      "HGS *= CHMP4B or TSG101 or CHMP2B or CHMP2A or CHMP3 or STAM\n",
      "GGA1 *= RAB5A\n",
      "CD8A *= CALR or HLA-C or HLA-E or HLA-A or HLA-B or HLA-G or B2M\n",
      "ATP6V1B2 *= ATP6V1D or ATP6V1E1 or ATP6V1A or UBXN7 or ATP6V1H or ATP6V1F or ATP6V1G1\n",
      "VCP *= DERL1 or UFD1L or UBXN7 or ASPSCR1 or CALR or NSFL1C\n",
      "ASPSCR1 *= UFD1L or UBXN7 or NSFL1C or VCP\n",
      "CALR *= VCP or HLA-G or HLA-C or CD8A or HLA-E or HLA-B or HLA-A or B2M\n",
      "ATP6V1E1 *= ATP6V1D or ATP6V1H or ATP6V1A or ATP6V1F or ATP6V1G1 or ATP6V1B2\n",
      "KPNA2 *= NUTF2 or KPNB1 or HLA-C or B2M or RAN\n",
      "ATP6V1G1 *= ATP6V1D or ATP6V1E1 or ATP6V1A or ATP6V1B2 or ATP6V1H or ATP6V1F\n",
      "UFD1L *= ASPSCR1 or NSFL1C or VPS33B or UBXN7 or VCP\n",
      "CLVS2 *= AP1B1\n",
      "\n",
      "#process node initial conditions\n",
      "Phagosome_acidification = True\n",
      "Phagosome_maturation = True\n",
      "Phagolysosome_assembly = True\n",
      "\n",
      "#process node rules\n",
      "Phagosome_maturation *= CORO1A and RAB7A and ATP6V1A and ATP6V1B2 and ATP6V1D and ATP6V1E1 and ATP6V1F and ATP6V1G1 and ATP6V1H\n",
      "Phagosome_acidification *= RAB7A and ATP6V1A and ATP6V1B2 and ATP6V1D and ATP6V1E1 and ATP6V1F and ATP6V1G1 and ATP6V1H\n",
      "Phagolysosome_assembly *= CORO1A and RAB7A\n",
      "\n",
      "#mtb node initial conditions\n",
      "Eis = False\n",
      "esxA = False\n",
      "esxH_esxG = False\n",
      "IpdC = False\n",
      "ndkA = False\n",
      "PPE2 = False\n",
      "PstS1 = False\n",
      "PtpA = False\n",
      "Rv2779c = False\n",
      "SapM = False\n",
      "\n",
      "#mtb update rules\n",
      "MRC1 *= MRC1 and not (PstS1)\n",
      "RAB7A *= RAB7A and not (ndkA or SapM)\n",
      "TRIM27 *= TRIM27 and not (PtpA)\n",
      "RAB5A *= RAB5A and not (ndkA)\n",
      "KPNB1 *= KPNB1 and not (PPE2)\n",
      "GSK3A *= GSK3A and not (PtpA)\n",
      "HGS *= HGS and not (esxH_esxG)\n",
      "ATP6V1H *= ATP6V1H and not (PtpA)\n",
      "TLR2 *= TLR2 and not (esxA or Rv2779c)\n",
      "VPS33B *= VPS33B and not (PtpA)\n",
      "B2M *= B2M and not (esxA)\n",
      "CORO1A *= CORO1A and not (IpdC)\n",
      "KPNA1 *= KPNA1 and not (PPE2)\n",
      "DUSP16 *= DUSP16 and not (Eis)\n",
      "NOS2 *= NOS2 and not (PPE2)\n"
     ]
    }
   ],
   "source": [
    "mtb_off = add_mtb_edgelist(definition, 'mtb-edgelist.csv', 'False')\n",
    "mtb = [\"Eis\" , \"esxA\" ,\"esxH_esxG\" ,\"IpdC\" ,\"ndkA\" ,\"PPE2\" ,\"PstS1\" ,\"PtpA\" ,\"Rv2779c\" ,\"SapM\"]\n",
    "print mtb_off"
   ]
  },
  {
   "cell_type": "code",
   "execution_count": 4,
   "metadata": {},
   "outputs": [
    {
     "ename": "NameError",
     "evalue": "global name 'labels' is not defined",
     "output_type": "error",
     "traceback": [
      "\u001b[0;31m---------------------------------------------------------------------------\u001b[0m",
      "\u001b[0;31mNameError\u001b[0m                                 Traceback (most recent call last)",
      "\u001b[0;32m<ipython-input-4-f6fc7287232d>\u001b[0m in \u001b[0;36m<module>\u001b[0;34m()\u001b[0m\n\u001b[1;32m      1\u001b[0m \u001b[0mmodel\u001b[0m \u001b[0;34m=\u001b[0m \u001b[0mbm\u001b[0m\u001b[0;34m.\u001b[0m\u001b[0mrun_model\u001b[0m\u001b[0;34m(\u001b[0m\u001b[0mmtb_off\u001b[0m\u001b[0;34m)\u001b[0m\u001b[0;34m\u001b[0m\u001b[0m\n\u001b[0;32m----> 2\u001b[0;31m \u001b[0mbm\u001b[0m\u001b[0;34m.\u001b[0m\u001b[0mplot_nodes\u001b[0m\u001b[0;34m(\u001b[0m\u001b[0mmodel\u001b[0m\u001b[0;34m,\u001b[0m \u001b[0;34m[\u001b[0m\u001b[0;34m'Phagosome_acidification'\u001b[0m\u001b[0;34m,\u001b[0m\u001b[0;34m'Phagosome_maturation'\u001b[0m\u001b[0;34m,\u001b[0m\u001b[0;34m'Phagolysosome_assembly'\u001b[0m\u001b[0;34m]\u001b[0m \u001b[0;34m+\u001b[0m \u001b[0mmtb\u001b[0m\u001b[0;34m)\u001b[0m\u001b[0;34m\u001b[0m\u001b[0m\n\u001b[0m",
      "\u001b[0;32m/Users/charlie/Desktop/Bioinformatics/rp1/boolean_model_helper.py\u001b[0m in \u001b[0;36mplot_nodes\u001b[0;34m(model, nodes, w, h)\u001b[0m\n\u001b[1;32m     52\u001b[0m     \u001b[0mdata\u001b[0m \u001b[0;34m=\u001b[0m \u001b[0;34m[\u001b[0m\u001b[0;34m]\u001b[0m\u001b[0;34m\u001b[0m\u001b[0m\n\u001b[1;32m     53\u001b[0m \u001b[0;31m#     labels = sorted(nodes) # nodes sorted alphabetically\u001b[0m\u001b[0;34m\u001b[0m\u001b[0;34m\u001b[0m\u001b[0m\n\u001b[0;32m---> 54\u001b[0;31m     \u001b[0;32mfor\u001b[0m \u001b[0mlabel\u001b[0m \u001b[0;32min\u001b[0m \u001b[0mlabels\u001b[0m\u001b[0;34m:\u001b[0m\u001b[0;34m\u001b[0m\u001b[0m\n\u001b[0m\u001b[1;32m     55\u001b[0m         \u001b[0mdata\u001b[0m\u001b[0;34m.\u001b[0m\u001b[0mappend\u001b[0m\u001b[0;34m(\u001b[0m\u001b[0mmodel\u001b[0m\u001b[0;34m.\u001b[0m\u001b[0mdata\u001b[0m\u001b[0;34m[\u001b[0m\u001b[0mlabel\u001b[0m\u001b[0;34m]\u001b[0m\u001b[0;34m)\u001b[0m\u001b[0;34m\u001b[0m\u001b[0m\n\u001b[1;32m     56\u001b[0m \u001b[0;34m\u001b[0m\u001b[0m\n",
      "\u001b[0;31mNameError\u001b[0m: global name 'labels' is not defined"
     ]
    }
   ],
   "source": [
    "model = bm.run_model(mtb_off)\n",
    "bm.plot_nodes(model, ['Phagosome_acidification','Phagosome_maturation','Phagolysosome_assembly'] + mtb)"
   ]
  },
  {
   "cell_type": "code",
   "execution_count": null,
   "metadata": {},
   "outputs": [],
   "source": []
  },
  {
   "cell_type": "code",
   "execution_count": null,
   "metadata": {},
   "outputs": [],
   "source": []
  }
 ],
 "metadata": {
  "kernelspec": {
   "display_name": "rp1",
   "language": "python",
   "name": "rp1"
  },
  "language_info": {
   "codemirror_mode": {
    "name": "ipython",
    "version": 2
   },
   "file_extension": ".py",
   "mimetype": "text/x-python",
   "name": "python",
   "nbconvert_exporter": "python",
   "pygments_lexer": "ipython2",
   "version": "2.7.15"
  }
 },
 "nbformat": 4,
 "nbformat_minor": 2
}
