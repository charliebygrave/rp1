{
 "cells": [
  {
   "cell_type": "code",
   "execution_count": 1,
   "metadata": {},
   "outputs": [],
   "source": [
    "# Packages used within the code\n",
    "\n",
    "import boolean2 as b2             # boolean2 is used to produced the model\n",
    "import matplotlib.pyplot as plt   # matplotlib is used to produce the grpahs of the model\n",
    "import re                         # re was used during personal code checks of the model but currently is not used."
   ]
  },
  {
   "cell_type": "code",
   "execution_count": 2,
   "metadata": {},
   "outputs": [],
   "source": [
    "# This first part is setting up the model\n",
    "model_definition = \"\"\"\n",
    "\n",
    "# This first section is defining the inital state of every node in the system beggining with complexs and miscellaneous nodes\n",
    "\n",
    "ENDOCYTOSIS_VESICLE_STAGE_1=False\n",
    "ENDOCYTOSIS_VESICLE_STAGE_2=False\n",
    "ENDOCYTOSIS_VESICLE_STAGE_3=False\n",
    "ENDOCYTOSIS_VESICLE_STAGE_4=False\n",
    "ENDOCYTOSIS_VESICLE_STAGE_5=False\n",
    "ENDOCYTOSIS_VESICLE_STAGE_6=False\n",
    "CLASP_PROTEINS_CARGO=False\n",
    "ARP2_3_COMPLEX=False\n",
    "AP-2_COMPLEX_CARGO=False\n",
    "CLASP_PROTEINS=True\n",
    "GOLGI-ASSOCIATED_VESICLE_DESTINED_CARGO=False\n",
    "GOLGI_VESICLE_STAGE_1=False\n",
    "GOLGI_VESICLE_STAGE_2=False\n",
    "GOLGI_VESICLE_STAGE_3 =False\n",
    "CLAT_AP1_CLVS_PI_3_5_P2=False\n",
    "AP1G2_HGS_CHMP2A=False\n",
    "AP-1_COMPLEX=False\n",
    "HSC70_AUXILLIN_COMPLEX=False\n",
    "LYSOSOME_DESTINED_CARGO=False\n",
    "LYSOSOME_VESICLE_STAGE_1=False\n",
    "LYSOSOME_VESICLE_STAGE_2=False\n",
    "LYSOSOME_VESICLE_STAGE_3=False\n",
    "WASPS_COMPLEX_STAGE_1=False\n",
    "WASPS_COMPLEX_STAGE_2=False\n",
    "MOTHER_FILAMENT_BRANCHING_COMPLEX=True\n",
    "FC_GAMMA_PHAGOCYTOSIS=False\n",
    "G-ACTIN=False\n",
    "ESCRT-0=False\n",
    "ESCRT-I=False\n",
    "ESCRT-II=False\n",
    "ESCRT-III=False\n",
    "ESCRT-0_CARGO_COMPLEX=False\n",
    "ESCRT-I_CARGO_COMPLEX=False\n",
    "ESCRT-II_CARGO_COMPLEX=False\n",
    "ESCRT-III_CARGO_COMPLEX=False\n",
    "VPS_VTA1=False\n",
    "HSPA8_BOUND_AUTOPHAGIC_SUBSTRATES=False\n",
    "VPS35_VPS29_VPS26=False\n",
    "RAB1_COMPLEX_STAGE_1=False\n",
    "RAB1_COMPLEX_STAGE_2=False\n",
    "RAB1_COMPLEX_STAGE_3=False\n",
    "RAB1_COMPLEX_STAGE_4A=False\n",
    "RAB1_COMPLEX_STAGE_5A=False\n",
    "KINSINS=False\n",
    "GOLGI_TO_ER_CARGO=True\n",
    "EXOCYST_PATH_STAGE_1=False\n",
    "EXOCYST_PATH_STAGE_2=False\n",
    "EXOCYST_COMPLEX=False\n",
    "RAB5COMPLEX=False\n",
    "RAB7COMPLEX=False\n",
    "LC3_COMPLEX_STAGE_1=False\n",
    "LC3_COMPLEX_STAGE_2=False\n",
    "LC3_PROTEINS=False\n",
    "WLS_RETROMER=False\n",
    "PL_HSPA8_AUTOPHAGY_SUBSTRATE=False\n",
    "Autophagosome_formation=False\n",
    "ACTIVEG-ACTIN=False\n",
    "ACTIVEMOTHER=False\n",
    "PHAGOPHORE=False\n",
    "\n",
    "# These are the hit proteins\n",
    "AP1B1=True\n",
    "CHMP2A=True #BC-2\n",
    "KIF6=True #C6orF102\n",
    "CDC42=True #CDC42EP3\n",
    "CHMP2B=True #DKFZP564O123\n",
    "GGA1=True\n",
    "HIP1R=True\n",
    "VPS26B=True #MGC10485\n",
    "VCP=False\n",
    "\n",
    "# These are the TB proteins\n",
    "\n",
    "MTB=True\n",
    "ESXH=False\n",
    "ESXG=False\n",
    "NDKA=False\n",
    "RV2074=False\n",
    "SAPM=False\n",
    "\n",
    "\n",
    "# Remaining proteins in network\n",
    "\n",
    "RAB7GDP=True\n",
    "RAB7GTP=True\n",
    "CHM=True\n",
    "TB=False\n",
    "AUTOPHAGY_SUBSTRATES=True\n",
    "COATOMER=True\n",
    "CARGO=True\n",
    "AP-2_COMPLEX=True\n",
    "UBIQUINATED_CARGO=True\n",
    "ACTB=True\n",
    "ACTG1=True\n",
    "ACTR2=True\n",
    "ACTR3=True\n",
    "ADRB2=True\n",
    "AP1G2=True\n",
    "ARPC1A=True\n",
    "ARPC2=True\n",
    "ARPC3=True\n",
    "ARPC4=True\n",
    "ARPC5=True\n",
    "ARRB1=True\n",
    "ASPSCR1=Random\n",
    "AKT1=True\n",
    "BNIP1=True\n",
    "CHMP3=True\n",
    "CHMP4A=True\n",
    "CHMP4B=True\n",
    "CHMP4C=True\n",
    "CHMP6=True\n",
    "CLSV2=True\n",
    "CLTC=True\n",
    "CTTN=True\n",
    "DNM2=True\n",
    "ENSG00000249884=True\n",
    "EXOC1=True\n",
    "EXOC4=True\n",
    "EXOC5=True\n",
    "EXOC6=True\n",
    "FNBP1=True\n",
    "FNBP1L=True\n",
    "GABARAP=True\n",
    "GABARAPL1=True\n",
    "GABARAPL2=True\n",
    "HGS=True\n",
    "HSP8=True\n",
    "HSP8A=True\n",
    "KIF25=True\n",
    "MAP1LC3A=True\n",
    "MAP1LC3B=True\n",
    "MAP1LC3C=True\n",
    "MVB12A=True\n",
    "MYO1C=True\n",
    "RAB1A=True\n",
    "RAB1B=True\n",
    "RAB5GDP=True\n",
    "RAB5GTP=True\n",
    "RAB8A=True\n",
    "SEC22B=True\n",
    "SNAPIN=True\n",
    "SNF8=True\n",
    "SNX3=True\n",
    "SNX5=True\n",
    "SNX6=True\n",
    "STAM=True\n",
    "STAM2=True\n",
    "SVIP=Random\n",
    "SYT11=True\n",
    "TBC1D3=True\n",
    "TSG101=True\n",
    "TXNDC5=True\n",
    "UBXN2A=True\n",
    "VAMP7=True\n",
    "VAMP8=True\n",
    "VPS25=True\n",
    "VPS26A=True\n",
    "VPS28=True\n",
    "VPS29=True\n",
    "VPS35=True\n",
    "VPS36=True\n",
    "VPS37A=True\n",
    "VPS37B=True\n",
    "VPS37C=True\n",
    "VPS37D=True\n",
    "VPS4A=True\n",
    "VPS4B=True\n",
    "VTA1=True\n",
    "WASL=True\n",
    "WLS=True\n",
    "AKT2=True\n",
    "TBC1D2=True\n",
    "TBC1D15=True\n",
    "offswitch=True\n",
    "PIK3C3=True\n",
    "BECLIN_1_COMPLEX=True\n",
    "UBXN6=False\n",
    "NSFL1C=Random\n",
    "RUBCN=False\n",
    "\n",
    "# Next are the boolean rules determining wether a node is turned on or off\n",
    "\n",
    "# First are the rules for tb proteins ,NOTE 'offswitch' is added to the rules to allow the node to be turned off\n",
    "ESXH*=MTB \n",
    "ESXG*=MTB \n",
    "NDKA*=MTB and not offswitch\n",
    "RV2074*=MTB \n",
    "SAPM*=MTB and not offswitch\n",
    "\n",
    "# Next are the rules for host COMPLEXES , functions and proteins.  Rules related to each other are grouped together\n",
    "\n",
    "ENDOCYTOSIS_VESICLE_STAGE_1*= CLTC and AP-2_COMPLEX or ENDOCYTOSIS_VESICLE_STAGE_6 and CLTC\n",
    "ENDOCYTOSIS_VESICLE_STAGE_2*= CLASP_PROTEINS_CARGO and ENDOCYTOSIS_VESICLE_STAGE_1\n",
    "ENDOCYTOSIS_VESICLE_STAGE_3*=ENDOCYTOSIS_VESICLE_STAGE_6 and ENDOCYTOSIS_VESICLE_STAGE_2 or ENDOCYTOSIS_VESICLE_STAGE_2 and FNBP1L and FNBP1\n",
    "ENDOCYTOSIS_VESICLE_STAGE_4*=ENDOCYTOSIS_VESICLE_STAGE_6 and ENDOCYTOSIS_VESICLE_STAGE_3 or ENDOCYTOSIS_VESICLE_STAGE_3 and ARP2_3_COMPLEX and WASL and HIP1R and SNX6\n",
    "ENDOCYTOSIS_VESICLE_STAGE_5*=ENDOCYTOSIS_VESICLE_STAGE_6 and ENDOCYTOSIS_VESICLE_STAGE_3 or ENDOCYTOSIS_VESICLE_STAGE_3 and DNM2 or ENDOCYTOSIS_VESICLE_STAGE_4 and DNM2\n",
    "ENDOCYTOSIS_VESICLE_STAGE_6*=ENDOCYTOSIS_VESICLE_STAGE_5 and RAB5GDP and HSP8A \n",
    "CLASP_PROTEINS_CARGO*=AP-2_COMPLEX and VAMP7 and SYT11 and CLTC and VAMP8 and ADRB2 and HGS and STAM and STAM2\n",
    "ARP2_3_COMPLEX*=ACTR2 and ACTR3 and ARPC1A and ARPC2 and ARPC3 and ARPC4 and ARPC5\n",
    "\n",
    "RAB5COMPLEX*=RAB5GTP and TBC1D3 and GGA1\n",
    "RAB7COMPLEX*=RAB7GTP and RAB5COMPLEX and TBC1D15 and not SAPM\n",
    "RAB5GTP*=RAB5GDP and ENDOCYTOSIS_VESICLE_STAGE_6 and not NDKA or RAB5GDP and CHM and not NDKA \n",
    "RAB7GTP*=RAB7GDP and CHM and not RAB7COMPLEX and not NDKA\n",
    "AP-2_COMPLEX_CARGO*=AP-2_COMPLEX and CARGO\n",
    "\n",
    "GOLGI-ASSOCIATED_VESICLE_DESTINED_CARGO*= SNAPIN and RAB5GTP and HIP1R and SNX6 or SNX3 and SNAPIN and RAB5GTP and HIP1R or SNX5 and SNAPIN and RAB5GTP and HIP1R\n",
    "GOLGI_VESICLE_STAGE_1*=GOLGI-ASSOCIATED_VESICLE_DESTINED_CARGO and AP-1_COMPLEX and ARRB1 and DNM2 and VAMP7 or VAMP8 and GOLGI-ASSOCIATED_VESICLE_DESTINED_CARGO and AP-1_COMPLEX and ARRB1 and DNM2\n",
    "GOLGI_VESICLE_STAGE_2*=GOLGI_VESICLE_STAGE_1 and CLTC\n",
    "GOLGI_VESICLE_STAGE_3*=GOLGI_VESICLE_STAGE_2 and HSC70_AUXILLIN_COMPLEX\n",
    "CLAT_AP1_CLVS_PI_3_5_P2*=CLSV2 and CLTC\n",
    "AP1G2_HGS_CHMP2A*=HGS and CHMP2A and AP1G2\n",
    "AP-1_COMPLEX*=AP1B1 and AP1G2\n",
    "HSC70_AUXILLIN_COMPLEX*=HSP8A\n",
    "LYSOSOME_DESTINED_CARGO*=TXNDC5\n",
    "LYSOSOME_VESICLE_STAGE_1*=LYSOSOME_DESTINED_CARGO and ARRB1 and AP-1_COMPLEX and VAMP7 or VAMP8 and LYSOSOME_DESTINED_CARGO and ARRB1 and AP-1_COMPLEX\n",
    "LYSOSOME_VESICLE_STAGE_2*=LYSOSOME_VESICLE_STAGE_1 and CLTC and DNM2\n",
    "LYSOSOME_VESICLE_STAGE_3*=LYSOSOME_VESICLE_STAGE_2 and HSC70_AUXILLIN_COMPLEX\n",
    "\n",
    "WASPS_COMPLEX_STAGE_1*=CDC42 and WASL\n",
    "WASPS_COMPLEX_STAGE_2*=WASPS_COMPLEX_STAGE_1 and ARP2_3_COMPLEX and G-ACTIN\n",
    "FC_GAMMA_PHAGOCYTOSIS*=MYO1C and ACTIVEMOTHER and ACTIVEG-ACTIN\n",
    "ACTIVEMOTHER*= MOTHER_FILAMENT_BRANCHING_COMPLEX and WASPS_COMPLEX_STAGE_2 and ARP2_3_COMPLEX\n",
    "ACTIVEG-ACTIN*=MOTHER_FILAMENT_BRANCHING_COMPLEX and WASPS_COMPLEX_STAGE_1\n",
    "G-ACTIN*=ACTB and ACTG1\n",
    "\n",
    "ESCRT-0*=STAM and STAM2 and HGS\n",
    "ESCRT-I*=MVB12A and TSG101 and VPS28 and VPS37A and VPS37B and VPS37C and VPS37D\n",
    "ESCRT-II*=SNF8 and VPS25 and VPS36\n",
    "ESCRT-III*=CHMP2A and CHMP2B and CHMP3 and CHMP4A and CHMP4B and CHMP4C and ENSG00000249884 and VCP\n",
    "ESCRT-0_CARGO_COMPLEX*=ESCRT-0 and UBIQUINATED_CARGO and not ESCRT-I_CARGO_COMPLEX\n",
    "ESCRT-I_CARGO_COMPLEX*=ESCRT-I and ESCRT-0_CARGO_COMPLEX and not ESCRT-II_CARGO_COMPLEX\n",
    "ESCRT-II_CARGO_COMPLEX*=ESCRT-II and ESCRT-I_CARGO_COMPLEX and not ESCRT-III_CARGO_COMPLEX\n",
    "ESCRT-III_CARGO_COMPLEX*=ESCRT-III and ESCRT-II_CARGO_COMPLEX and not VPS_VTA1\n",
    "VPS_VTA1*=VPS4A and VPS4B and VTA1 and ESCRT-III_CARGO_COMPLEX\n",
    "HSPA8_BOUND_AUTOPHAGIC_SUBSTRATES*=AUTOPHAGY_SUBSTRATES and HSP8A\n",
    "LC3_COMPLEX_STAGE_1*=LC3_PROTEINS\n",
    "LC3_COMPLEX_STAGE_2*=ESCRT-III and LC3_COMPLEX_STAGE_1 and PHAGOPHORE\n",
    "LC3_PROTEINS*=GABARAP and GABARAPL1 and GABARAPL2 and MAP1LC3A and MAP1LC3B and MAP1LC3C\n",
    "PHAGOPHORE*=BECLIN_1_COMPLEX and PIK3C3\n",
    "HGS*= HGS or not ESXH and not ESXG\n",
    "PIK3C3*=PIK3C3 and not RUBCN\n",
    "Autophagosome_formation*=LC3_COMPLEX_STAGE_2\n",
    "\n",
    "PL_HSPA8_AUTOPHAGY_SUBSTRATE*=ESCRT-I and ESCRT-III\n",
    "WLS_RETROMER*=VPS35_VPS29_VPS26 and WLS and SNX3 or VPS35_VPS29_VPS26 and WLS and  SNX5 or SNX6 and VPS35_VPS29_VPS26 and WLS\n",
    "VPS35_VPS29_VPS26*= VPS35 and VPS29 and VPS26A and VPS26B\n",
    "\n",
    "RAB1_COMPLEX_STAGE_1*=COATOMER and RAB1A and RAB1B\n",
    "RAB1_COMPLEX_STAGE_2*=RAB1_COMPLEX_STAGE_1 and SEC22B and GOLGI_TO_ER_CARGO\n",
    "RAB1_COMPLEX_STAGE_3*=RAB1_COMPLEX_STAGE_2 and KINSINS and BNIP1 and SNX3 or SNX5 and RAB1_COMPLEX_STAGE_2 and KINSINS and BNIP1 or SNX6 and RAB1_COMPLEX_STAGE_2 and KINSINS and BNIP1 \n",
    "RAB1_COMPLEX_STAGE_4A*=RAB1_COMPLEX_STAGE_5A and BNIP1\n",
    "RAB1_COMPLEX_STAGE_5A*=RAB1_COMPLEX_STAGE_4A\n",
    "KINSINS*=KIF25 and KIF6\n",
    "EXOCYST_PATH_STAGE_1*=MYO1C and ACTG1 and AKT2 and AKT1\n",
    "EXOCYST_PATH_STAGE_2*=RAB8A and EXOCYST_COMPLEX and EXOCYST_PATH_STAGE_1\n",
    "EXOCYST_COMPLEX*=EXOC1 and EXOC4 and EXOC5 and EXOC6\n",
    "\n",
    "\n",
    "#Rules for VCP placed here. Has been placed on it's own due to the many proteins involved\n",
    "\n",
    "VCP*=SVIP and ASPSCR1 and not RV2074 or SVIP and not UBXN6  and not NSFL1C and not RV2074 or ASPSCR1 and not UBXN6 and not NSFL1C and not RV2074\n",
    "#VCP*=not offswitch\n",
    "\"\"\""
   ]
  },
  {
   "cell_type": "code",
   "execution_count": 3,
   "metadata": {},
   "outputs": [
    {
     "name": "stdout",
     "output_type": "stream",
     "text": [
      "CARGO [True, True, True, True, True, True, True, True, True, True, True, True, True, True, True, True]\n",
      "ACTG1 [True, True, True, True, True, True, True, True, True, True, True, True, True, True, True, True]\n",
      "WLS [True, True, True, True, True, True, True, True, True, True, True, True, True, True, True, True]\n",
      "RUBCN [False, False, False, False, False, False, False, False, False, False, False, False, False, False, False, False]\n",
      "CHMP2B [True, True, True, True, True, True, True, True, True, True, True, True, True, True, True, True]\n",
      "AKT1 [True, True, True, True, True, True, True, True, True, True, True, True, True, True, True, True]\n",
      "AKT2 [True, True, True, True, True, True, True, True, True, True, True, True, True, True, True, True]\n",
      "CHMP2A [True, True, True, True, True, True, True, True, True, True, True, True, True, True, True, True]\n",
      "AP-2_COMPLEX [True, True, True, True, True, True, True, True, True, True, True, True, True, True, True, True]\n",
      "TXNDC5 [True, True, True, True, True, True, True, True, True, True, True, True, True, True, True, True]\n",
      "RAB5COMPLEX [False, True, True, True, True, True, True, True, True, True, True, True, True, True, True, True]\n",
      "AUTOPHAGY_SUBSTRATES [True, True, True, True, True, True, True, True, True, True, True, True, True, True, True, True]\n",
      "MVB12A [True, True, True, True, True, True, True, True, True, True, True, True, True, True, True, True]\n",
      "ESXG [False, True, True, True, True, True, True, True, True, True, True, True, True, True, True, True]\n",
      "ESXH [False, True, True, True, True, True, True, True, True, True, True, True, True, True, True, True]\n",
      "RAB7COMPLEX [False, False, True, True, False, False, True, True, False, False, True, True, False, False, True, True]\n",
      "GABARAP [True, True, True, True, True, True, True, True, True, True, True, True, True, True, True, True]\n",
      "NSFL1C [True, True, True, True, True, True, True, True, True, True, True, True, True, True, True, True]\n",
      "CLASP_PROTEINS [True, True, True, True, True, True, True, True, True, True, True, True, True, True, True, True]\n",
      "RAB7GDP [True, True, True, True, True, True, True, True, True, True, True, True, True, True, True, True]\n",
      "EXOCYST_PATH_STAGE_2 [False, False, True, True, True, True, True, True, True, True, True, True, True, True, True, True]\n",
      "NDKA [False, False, False, False, False, False, False, False, False, False, False, False, False, False, False, False]\n",
      "EXOCYST_COMPLEX [False, True, True, True, True, True, True, True, True, True, True, True, True, True, True, True]\n",
      "BECLIN_1_COMPLEX [True, True, True, True, True, True, True, True, True, True, True, True, True, True, True, True]\n",
      "VPS35 [True, True, True, True, True, True, True, True, True, True, True, True, True, True, True, True]\n",
      "PIK3C3 [True, True, True, True, True, True, True, True, True, True, True, True, True, True, True, True]\n",
      "UBXN6 [False, False, False, False, False, False, False, False, False, False, False, False, False, False, False, False]\n",
      "ESCRT-II_CARGO_COMPLEX [False, False, False, False, True, True, False, False, True, True, False, False, True, True, False, False]\n",
      "KIF25 [True, True, True, True, True, True, True, True, True, True, True, True, True, True, True, True]\n",
      "ARPC1A [True, True, True, True, True, True, True, True, True, True, True, True, True, True, True, True]\n",
      "VPS36 [True, True, True, True, True, True, True, True, True, True, True, True, True, True, True, True]\n",
      "RAB7GTP [True, True, True, False, False, True, True, False, False, True, True, False, False, True, True, False]\n",
      "CLSV2 [True, True, True, True, True, True, True, True, True, True, True, True, True, True, True, True]\n",
      "ACTB [True, True, True, True, True, True, True, True, True, True, True, True, True, True, True, True]\n",
      "SNX3 [True, True, True, True, True, True, True, True, True, True, True, True, True, True, True, True]\n",
      "VCP [False, False, False, False, False, False, False, False, False, False, False, False, False, False, False, False]\n",
      "SNX6 [True, True, True, True, True, True, True, True, True, True, True, True, True, True, True, True]\n",
      "SNX5 [True, True, True, True, True, True, True, True, True, True, True, True, True, True, True, True]\n",
      "CLTC [True, True, True, True, True, True, True, True, True, True, True, True, True, True, True, True]\n",
      "DNM2 [True, True, True, True, True, True, True, True, True, True, True, True, True, True, True, True]\n",
      "STAM [True, True, True, True, True, True, True, True, True, True, True, True, True, True, True, True]\n",
      "FNBP1L [True, True, True, True, True, True, True, True, True, True, True, True, True, True, True, True]\n",
      "VPS37D [True, True, True, True, True, True, True, True, True, True, True, True, True, True, True, True]\n",
      "VPS37C [True, True, True, True, True, True, True, True, True, True, True, True, True, True, True, True]\n",
      "VPS37B [True, True, True, True, True, True, True, True, True, True, True, True, True, True, True, True]\n",
      "VPS37A [True, True, True, True, True, True, True, True, True, True, True, True, True, True, True, True]\n",
      "RAB1_COMPLEX_STAGE_4A [False, False, False, False, False, False, False, False, False, False, False, False, False, False, False, False]\n",
      "KIF6 [True, True, True, True, True, True, True, True, True, True, True, True, True, True, True, True]\n",
      "SYT11 [True, True, True, True, True, True, True, True, True, True, True, True, True, True, True, True]\n",
      "GOLGI_TO_ER_CARGO [True, True, True, True, True, True, True, True, True, True, True, True, True, True, True, True]\n",
      "UBXN2A [True, True, True, True, True, True, True, True, True, True, True, True, True, True, True, True]\n",
      "MAP1LC3A [True, True, True, True, True, True, True, True, True, True, True, True, True, True, True, True]\n",
      "MAP1LC3C [True, True, True, True, True, True, True, True, True, True, True, True, True, True, True, True]\n",
      "MAP1LC3B [True, True, True, True, True, True, True, True, True, True, True, True, True, True, True, True]\n",
      "VTA1 [True, True, True, True, True, True, True, True, True, True, True, True, True, True, True, True]\n",
      "ARPC3 [True, True, True, True, True, True, True, True, True, True, True, True, True, True, True, True]\n",
      "ARPC2 [True, True, True, True, True, True, True, True, True, True, True, True, True, True, True, True]\n",
      "ARPC5 [True, True, True, True, True, True, True, True, True, True, True, True, True, True, True, True]\n",
      "ARPC4 [True, True, True, True, True, True, True, True, True, True, True, True, True, True, True, True]\n",
      "offswitch [True, True, True, True, True, True, True, True, True, True, True, True, True, True, True, True]\n",
      "RAB5GTP [True, True, True, True, True, True, True, True, True, True, True, True, True, True, True, True]\n",
      "HSPA8_BOUND_AUTOPHAGIC_SUBSTRATES [False, True, True, True, True, True, True, True, True, True, True, True, True, True, True, True]\n",
      "BNIP1 [True, True, True, True, True, True, True, True, True, True, True, True, True, True, True, True]\n",
      "SAPM [False, False, False, False, False, False, False, False, False, False, False, False, False, False, False, False]\n",
      "ASPSCR1 [True, True, True, True, True, True, True, True, True, True, True, True, True, True, True, True]\n",
      "MOTHER_FILAMENT_BRANCHING_COMPLEX [True, True, True, True, True, True, True, True, True, True, True, True, True, True, True, True]\n",
      "RAB5GDP [True, True, True, True, True, True, True, True, True, True, True, True, True, True, True, True]\n",
      "AP1G2 [True, True, True, True, True, True, True, True, True, True, True, True, True, True, True, True]\n",
      "LC3_COMPLEX_STAGE_2 [False, False, False, False, False, False, False, False, False, False, False, False, False, False, False, False]\n",
      "HSP8 [True, True, True, True, True, True, True, True, True, True, True, True, True, True, True, True]\n",
      "TBC1D15 [True, True, True, True, True, True, True, True, True, True, True, True, True, True, True, True]\n",
      "ACTR3 [True, True, True, True, True, True, True, True, True, True, True, True, True, True, True, True]\n",
      "ACTR2 [True, True, True, True, True, True, True, True, True, True, True, True, True, True, True, True]\n",
      "TSG101 [True, True, True, True, True, True, True, True, True, True, True, True, True, True, True, True]\n",
      "FNBP1 [True, True, True, True, True, True, True, True, True, True, True, True, True, True, True, True]\n",
      "Autophagosome_formation [False, False, False, False, False, False, False, False, False, False, False, False, False, False, False, False]\n",
      "WLS_RETROMER [False, False, True, True, True, True, True, True, True, True, True, True, True, True, True, True]\n",
      "EXOCYST_PATH_STAGE_1 [False, True, True, True, True, True, True, True, True, True, True, True, True, True, True, True]\n",
      "ACTIVEMOTHER [False, False, False, True, True, True, True, True, True, True, True, True, True, True, True, True]\n",
      "MYO1C [True, True, True, True, True, True, True, True, True, True, True, True, True, True, True, True]\n",
      "UBIQUINATED_CARGO [True, True, True, True, True, True, True, True, True, True, True, True, True, True, True, True]\n",
      "VPS35_VPS29_VPS26 [False, True, True, True, True, True, True, True, True, True, True, True, True, True, True, True]\n",
      "CLAT_AP1_CLVS_PI_3_5_P2 [False, True, True, True, True, True, True, True, True, True, True, True, True, True, True, True]\n",
      "ARRB1 [True, True, True, True, True, True, True, True, True, True, True, True, True, True, True, True]\n",
      "CHMP3 [True, True, True, True, True, True, True, True, True, True, True, True, True, True, True, True]\n",
      "CHMP6 [True, True, True, True, True, True, True, True, True, True, True, True, True, True, True, True]\n",
      "RAB8A [True, True, True, True, True, True, True, True, True, True, True, True, True, True, True, True]\n",
      "PHAGOPHORE [False, True, True, True, True, True, True, True, True, True, True, True, True, True, True, True]\n",
      "TBC1D2 [True, True, True, True, True, True, True, True, True, True, True, True, True, True, True, True]\n",
      "TBC1D3 [True, True, True, True, True, True, True, True, True, True, True, True, True, True, True, True]\n",
      "ARP2_3_COMPLEX [False, True, True, True, True, True, True, True, True, True, True, True, True, True, True, True]\n",
      "ESCRT-II [False, True, True, True, True, True, True, True, True, True, True, True, True, True, True, True]\n",
      "VPS_VTA1 [False, False, False, False, False, False, False, False, False, False, False, False, False, False, False, False]\n",
      "SEC22B [True, True, True, True, True, True, True, True, True, True, True, True, True, True, True, True]\n",
      "GOLGI_VESICLE_STAGE_3 [False, False, False, False, True, True, True, True, True, True, True, True, True, True, True, True]\n",
      "GOLGI_VESICLE_STAGE_2 [False, False, False, True, True, True, True, True, True, True, True, True, True, True, True, True]\n",
      "GOLGI_VESICLE_STAGE_1 [False, False, True, True, True, True, True, True, True, True, True, True, True, True, True, True]\n",
      "RAB1B [True, True, True, True, True, True, True, True, True, True, True, True, True, True, True, True]\n",
      "ESCRT-III_CARGO_COMPLEX [False, False, False, False, False, False, False, False, False, False, False, False, False, False, False, False]\n",
      "CLASP_PROTEINS_CARGO [False, True, True, True, True, True, True, True, True, True, True, True, True, True, True, True]\n",
      "GGA1 [True, True, True, True, True, True, True, True, True, True, True, True, True, True, True, True]\n",
      "ENDOCYTOSIS_VESICLE_STAGE_2 [False, False, True, True, True, True, True, True, True, True, True, True, True, True, True, True]\n",
      "ENDOCYTOSIS_VESICLE_STAGE_1 [False, True, True, True, True, True, True, True, True, True, True, True, True, True, True, True]\n",
      "PL_HSPA8_AUTOPHAGY_SUBSTRATE [False, False, False, False, False, False, False, False, False, False, False, False, False, False, False, False]\n",
      "ENDOCYTOSIS_VESICLE_STAGE_6 [False, False, False, False, False, True, True, True, True, True, True, True, True, True, True, True]\n",
      "ENDOCYTOSIS_VESICLE_STAGE_5 [False, False, False, False, True, True, True, True, True, True, True, True, True, True, True, True]\n",
      "ENDOCYTOSIS_VESICLE_STAGE_4 [False, False, False, False, True, True, True, True, True, True, True, True, True, True, True, True]\n",
      "ESCRT-0_CARGO_COMPLEX [False, False, True, True, False, False, True, True, False, False, True, True, False, False, True, True]\n",
      "RV2074 [False, True, True, True, True, True, True, True, True, True, True, True, True, True, True, True]\n",
      "GOLGI-ASSOCIATED_VESICLE_DESTINED_CARGO [False, True, True, True, True, True, True, True, True, True, True, True, True, True, True, True]\n",
      "RAB1_COMPLEX_STAGE_3 [False, False, False, True, True, True, True, True, True, True, True, True, True, True, True, True]\n",
      "VPS26A [True, True, True, True, True, True, True, True, True, True, True, True, True, True, True, True]\n",
      "VAMP7 [True, True, True, True, True, True, True, True, True, True, True, True, True, True, True, True]\n",
      "VPS26B [True, True, True, True, True, True, True, True, True, True, True, True, True, True, True, True]\n",
      "EXOC5 [True, True, True, True, True, True, True, True, True, True, True, True, True, True, True, True]\n",
      "ADRB2 [True, True, True, True, True, True, True, True, True, True, True, True, True, True, True, True]\n",
      "VPS4B [True, True, True, True, True, True, True, True, True, True, True, True, True, True, True, True]\n",
      "LYSOSOME_DESTINED_CARGO [False, True, True, True, True, True, True, True, True, True, True, True, True, True, True, True]\n",
      "ENSG00000249884 [True, True, True, True, True, True, True, True, True, True, True, True, True, True, True, True]\n",
      "CDC42 [True, True, True, True, True, True, True, True, True, True, True, True, True, True, True, True]\n",
      "CTTN [True, True, True, True, True, True, True, True, True, True, True, True, True, True, True, True]\n",
      "CHMP4A [True, True, True, True, True, True, True, True, True, True, True, True, True, True, True, True]\n",
      "CHMP4B [True, True, True, True, True, True, True, True, True, True, True, True, True, True, True, True]\n",
      "CHMP4C [True, True, True, True, True, True, True, True, True, True, True, True, True, True, True, True]\n",
      "AP-1_COMPLEX [False, True, True, True, True, True, True, True, True, True, True, True, True, True, True, True]\n",
      "RAB1_COMPLEX_STAGE_2 [False, False, True, True, True, True, True, True, True, True, True, True, True, True, True, True]\n",
      "RAB1_COMPLEX_STAGE_1 [False, True, True, True, True, True, True, True, True, True, True, True, True, True, True, True]\n",
      "ESCRT-I [False, True, True, True, True, True, True, True, True, True, True, True, True, True, True, True]\n",
      "WASL [True, True, True, True, True, True, True, True, True, True, True, True, True, True, True, True]\n",
      "LYSOSOME_VESICLE_STAGE_3 [False, False, False, False, True, True, True, True, True, True, True, True, True, True, True, True]\n",
      "LYSOSOME_VESICLE_STAGE_2 [False, False, False, True, True, True, True, True, True, True, True, True, True, True, True, True]\n",
      "ACTIVEG-ACTIN [False, False, True, True, True, True, True, True, True, True, True, True, True, True, True, True]\n",
      "LC3_COMPLEX_STAGE_1 [False, False, True, True, True, True, True, True, True, True, True, True, True, True, True, True]\n",
      "FC_GAMMA_PHAGOCYTOSIS [False, False, False, False, True, True, True, True, True, True, True, True, True, True, True, True]\n",
      "LYSOSOME_VESICLE_STAGE_1 [False, False, True, True, True, True, True, True, True, True, True, True, True, True, True, True]\n",
      "WASPS_COMPLEX_STAGE_2 [False, False, True, True, True, True, True, True, True, True, True, True, True, True, True, True]\n",
      "WASPS_COMPLEX_STAGE_1 [False, True, True, True, True, True, True, True, True, True, True, True, True, True, True, True]\n",
      "GABARAPL1 [True, True, True, True, True, True, True, True, True, True, True, True, True, True, True, True]\n",
      "GABARAPL2 [True, True, True, True, True, True, True, True, True, True, True, True, True, True, True, True]\n",
      "AP-2_COMPLEX_CARGO [False, True, True, True, True, True, True, True, True, True, True, True, True, True, True, True]\n",
      "STAM2 [True, True, True, True, True, True, True, True, True, True, True, True, True, True, True, True]\n",
      "VPS29 [True, True, True, True, True, True, True, True, True, True, True, True, True, True, True, True]\n",
      "LC3_PROTEINS [False, True, True, True, True, True, True, True, True, True, True, True, True, True, True, True]\n",
      "AP1G2_HGS_CHMP2A [False, True, True, True, True, True, True, True, True, True, True, True, True, True, True, True]\n",
      "RAB1A [True, True, True, True, True, True, True, True, True, True, True, True, True, True, True, True]\n",
      "COATOMER [True, True, True, True, True, True, True, True, True, True, True, True, True, True, True, True]\n",
      "AP1B1 [True, True, True, True, True, True, True, True, True, True, True, True, True, True, True, True]\n",
      "HIP1R [True, True, True, True, True, True, True, True, True, True, True, True, True, True, True, True]\n",
      "TB [False, False, False, False, False, False, False, False, False, False, False, False, False, False, False, False]\n",
      "G-ACTIN [False, True, True, True, True, True, True, True, True, True, True, True, True, True, True, True]\n",
      "SNAPIN [True, True, True, True, True, True, True, True, True, True, True, True, True, True, True, True]\n",
      "ESCRT-I_CARGO_COMPLEX [False, False, False, True, True, False, False, True, True, False, False, True, True, False, False, True]\n",
      "HSP8A [True, True, True, True, True, True, True, True, True, True, True, True, True, True, True, True]\n",
      "HGS [True, True, True, True, True, True, True, True, True, True, True, True, True, True, True, True]\n",
      "CHM [True, True, True, True, True, True, True, True, True, True, True, True, True, True, True, True]\n",
      "ESCRT-III [False, False, False, False, False, False, False, False, False, False, False, False, False, False, False, False]\n",
      "KINSINS [False, True, True, True, True, True, True, True, True, True, True, True, True, True, True, True]\n",
      "SNF8 [True, True, True, True, True, True, True, True, True, True, True, True, True, True, True, True]\n",
      "MTB [True, True, True, True, True, True, True, True, True, True, True, True, True, True, True, True]\n",
      "ENDOCYTOSIS_VESICLE_STAGE_3 [False, False, False, True, True, True, True, True, True, True, True, True, True, True, True, True]\n",
      "EXOC1 [True, True, True, True, True, True, True, True, True, True, True, True, True, True, True, True]\n",
      "EXOC6 [True, True, True, True, True, True, True, True, True, True, True, True, True, True, True, True]\n",
      "EXOC4 [True, True, True, True, True, True, True, True, True, True, True, True, True, True, True, True]\n",
      "HSC70_AUXILLIN_COMPLEX [False, True, True, True, True, True, True, True, True, True, True, True, True, True, True, True]\n",
      "VAMP8 [True, True, True, True, True, True, True, True, True, True, True, True, True, True, True, True]\n",
      "VPS25 [True, True, True, True, True, True, True, True, True, True, True, True, True, True, True, True]\n",
      "RAB1_COMPLEX_STAGE_5A [False, False, False, False, False, False, False, False, False, False, False, False, False, False, False, False]\n",
      "ESCRT-0 [False, True, True, True, True, True, True, True, True, True, True, True, True, True, True, True]\n",
      "SVIP [False, False, False, False, False, False, False, False, False, False, False, False, False, False, False, False]\n",
      "VPS28 [True, True, True, True, True, True, True, True, True, True, True, True, True, True, True, True]\n",
      "VPS4A [True, True, True, True, True, True, True, True, True, True, True, True, True, True, True, True]\n"
     ]
    },
    {
     "data": {
      "image/png": "[encoded data removed]",
      "text/plain": [
       "<Figure size 432x288 with 1 Axes>"
      ]
     },
     "metadata": {
      "needs_background": "light"
     },
     "output_type": "display_data"
    }
   ],
   "source": [
    "# Here the model is run\n",
    "model = b2.Model(text=model_definition, mode='sync')\n",
    "model.initialize()\n",
    "model.iterate(steps=15)\n",
    "\n",
    "# The plot for every node is set here, although it is not labled so just exists to quickly visually check the model is working\n",
    "image = list()\n",
    "for node in model.data:\n",
    "    image.append(model.data[node])\n",
    "plt.yticks(range(0,5), model.data)\n",
    "plt.imshow(image, cmap=plt.cm.get_cmap('RdYlGn'), interpolation='none')\n",
    "\n",
    "# Here the state of each node is printed out\n",
    "for node in model.data:\n",
    "    print node, model.data[node]"
   ]
  },
  {
   "cell_type": "code",
   "execution_count": 4,
   "metadata": {
    "scrolled": true
   },
   "outputs": [
    {
     "name": "stdout",
     "output_type": "stream",
     "text": [
      "[1.0, 1.0, 1.0, 1.0, 1.0, 1.0, 1.0, 1.0, 1.0, 1.0, 1.0, 1.0, 1.0, 1.0, 1.0, 1.0]\n",
      "ARPC5\n",
      "[0.0, 0.0, 1.0, 1.0, 1.0, 1.0, 1.0, 1.0, 1.0, 1.0, 1.0, 1.0, 1.0, 1.0, 1.0, 1.0]\n",
      "ENDOCYTOSIS_VESICLE_STAGE_2\n",
      "[0.0, 1.0, 1.0, 1.0, 1.0, 1.0, 1.0, 1.0, 1.0, 1.0, 1.0, 1.0, 1.0, 1.0, 1.0, 1.0]\n",
      "ENDOCYTOSIS_VESICLE_STAGE_1\n",
      "[0.0, 0.0, 0.0, 0.0, 0.0, 1.0, 1.0, 1.0, 1.0, 1.0, 1.0, 1.0, 1.0, 1.0, 1.0, 1.0]\n",
      "ENDOCYTOSIS_VESICLE_STAGE_6\n",
      "[0.0, 0.0, 0.0, 0.0, 1.0, 1.0, 1.0, 1.0, 1.0, 1.0, 1.0, 1.0, 1.0, 1.0, 1.0, 1.0]\n",
      "ENDOCYTOSIS_VESICLE_STAGE_5\n",
      "[0.0, 0.0, 0.0, 0.0, 1.0, 1.0, 1.0, 1.0, 1.0, 1.0, 1.0, 1.0, 1.0, 1.0, 1.0, 1.0]\n",
      "ENDOCYTOSIS_VESICLE_STAGE_4\n",
      "[1.0, 1.0, 1.0, 1.0, 1.0, 1.0, 1.0, 1.0, 1.0, 1.0, 1.0, 1.0, 1.0, 1.0, 1.0, 1.0]\n",
      "MTB\n",
      "[0.0, 0.0, 0.0, 1.0, 1.0, 1.0, 1.0, 1.0, 1.0, 1.0, 1.0, 1.0, 1.0, 1.0, 1.0, 1.0]\n",
      "ENDOCYTOSIS_VESICLE_STAGE_3\n"
     ]
    },
    {
     "data": {
      "image/png": "[encoded data removed]",
      "text/plain": [
       "<Figure size 432x288 with 1 Axes>"
      ]
     },
     "metadata": {
      "needs_background": "light"
     },
     "output_type": "display_data"
    }
   ],
   "source": [
    "from boolean2 import util\n",
    "\n",
    "# The following plots all show the components of individaul pathways that string identified\n",
    "\n",
    "coll = util.Collector()\n",
    "for i in range(10):\n",
    "    model = b2.Model(text=model_definition, mode='sync')\n",
    "    model.initialize()\n",
    "    model.iterate(steps=15)\n",
    "    coll.collect(states=model.states, nodes=model.nodes)\n",
    "avgs = coll.get_averages()\n",
    "\n",
    "image = list()\n",
    "ticks = list()\n",
    "for node in model.data:\n",
    "    if (node== \"MTB\" or node == \"ENDOCYTOSIS_VESICLE_STAGE_1\"or node == \"ENDOCYTOSIS_VESICLE_STAGE_2\"or node == \"ENDOCYTOSIS_VESICLE_STAGE_3\"or node == \"ENDOCYTOSIS_VESICLE_STAGE_4\"or node == \"ENDOCYTOSIS_VESICLE_STAGE_5\"or node == \"ENDOCYTOSIS_VESICLE_STAGE_6\" or node == \"ARPC5\"):\n",
    "        print avgs[node]\n",
    "        print node\n",
    "        ticks.append(node)\n",
    "        image.append(avgs[node])\n",
    "plt.yticks(range(0,8), ticks)\n",
    "plt.imshow(image, cmap=plt.cm.get_cmap('RdYlGn'), interpolation='none')\n",
    "plt.savefig('Clathrin.png')"
   ]
  },
  {
   "cell_type": "code",
   "execution_count": 5,
   "metadata": {},
   "outputs": [
    {
     "name": "stdout",
     "output_type": "stream",
     "text": [
      "[0.0, 0.0, 1.0, 1.0, 0.0, 0.0, 1.0, 1.0, 0.0, 0.0, 1.0, 1.0, 0.0, 0.0, 1.0, 1.0]\n",
      "RAB7COMPLEX\n",
      "[1.0, 1.0, 1.0, 1.0, 1.0, 1.0, 1.0, 1.0, 1.0, 1.0, 1.0, 1.0, 1.0, 1.0, 1.0, 1.0]\n",
      "RAB5GTP\n",
      "[1.0, 1.0, 1.0, 1.0, 1.0, 1.0, 1.0, 1.0, 1.0, 1.0, 1.0, 1.0, 1.0, 1.0, 1.0, 1.0]\n",
      "RAB5GDP\n",
      "[0.0, 0.0, 0.0, 0.0, 0.0, 0.0, 0.0, 0.0, 0.0, 0.0, 0.0, 0.0, 0.0, 0.0, 0.0, 0.0]\n",
      "TB\n"
     ]
    },
    {
     "data": {
      "image/png": "[encoded data removed]",
      "text/plain": [
       "<Figure size 432x288 with 1 Axes>"
      ]
     },
     "metadata": {
      "needs_background": "light"
     },
     "output_type": "display_data"
    }
   ],
   "source": [
    "from boolean2 import util\n",
    "\n",
    "image = list()\n",
    "ticks = list()\n",
    "for node in model.data:\n",
    "    if (node== \"TB\" or node == \"RAB7COMPLEX\" or node ==\"RAB5GTP\" or node==\"RAB5GDP\"):\n",
    "        print avgs[node]\n",
    "        print node\n",
    "        ticks.append(node)\n",
    "        image.append(avgs[node])\n",
    "plt.yticks(range(0,8), ticks)\n",
    "plt.imshow(image, cmap=plt.cm.get_cmap('RdYlGn'), interpolation='none')\n",
    "plt.savefig('Rab.png')"
   ]
  },
  {
   "cell_type": "code",
   "execution_count": 6,
   "metadata": {
    "scrolled": true
   },
   "outputs": [
    {
     "name": "stdout",
     "output_type": "stream",
     "text": [
      "[1.0, 1.0, 1.0, 1.0, 1.0, 1.0, 1.0, 1.0, 1.0, 1.0, 1.0, 1.0, 1.0, 1.0, 1.0, 1.0]\n",
      "ARPC5\n",
      "[0.0, 1.0, 1.0, 1.0, 1.0, 1.0, 1.0, 1.0, 1.0, 1.0, 1.0, 1.0, 1.0, 1.0, 1.0, 1.0]\n",
      "CLAT_AP1_CLVS_PI_3_5_P2\n",
      "[0.0, 0.0, 0.0, 0.0, 1.0, 1.0, 1.0, 1.0, 1.0, 1.0, 1.0, 1.0, 1.0, 1.0, 1.0, 1.0]\n",
      "GOLGI_VESICLE_STAGE_3\n",
      "[0.0, 0.0, 0.0, 1.0, 1.0, 1.0, 1.0, 1.0, 1.0, 1.0, 1.0, 1.0, 1.0, 1.0, 1.0, 1.0]\n",
      "GOLGI_VESICLE_STAGE_2\n",
      "[0.0, 0.0, 1.0, 1.0, 1.0, 1.0, 1.0, 1.0, 1.0, 1.0, 1.0, 1.0, 1.0, 1.0, 1.0, 1.0]\n",
      "GOLGI_VESICLE_STAGE_1\n",
      "[0.0, 0.0, 0.0, 0.0, 1.0, 1.0, 1.0, 1.0, 1.0, 1.0, 1.0, 1.0, 1.0, 1.0, 1.0, 1.0]\n",
      "LYSOSOME_VESICLE_STAGE_3\n",
      "[0.0, 0.0, 0.0, 1.0, 1.0, 1.0, 1.0, 1.0, 1.0, 1.0, 1.0, 1.0, 1.0, 1.0, 1.0, 1.0]\n",
      "LYSOSOME_VESICLE_STAGE_2\n",
      "[0.0, 0.0, 1.0, 1.0, 1.0, 1.0, 1.0, 1.0, 1.0, 1.0, 1.0, 1.0, 1.0, 1.0, 1.0, 1.0]\n",
      "LYSOSOME_VESICLE_STAGE_1\n",
      "[0.0, 1.0, 1.0, 1.0, 1.0, 1.0, 1.0, 1.0, 1.0, 1.0, 1.0, 1.0, 1.0, 1.0, 1.0, 1.0]\n",
      "AP1G2_HGS_CHMP2A\n",
      "[0.0, 0.0, 0.0, 0.0, 0.0, 0.0, 0.0, 0.0, 0.0, 0.0, 0.0, 0.0, 0.0, 0.0, 0.0, 0.0]\n",
      "TB\n"
     ]
    },
    {
     "data": {
      "image/png": "[encoded data removed]",
      "text/plain": [
       "<Figure size 432x288 with 1 Axes>"
      ]
     },
     "metadata": {
      "needs_background": "light"
     },
     "output_type": "display_data"
    }
   ],
   "source": [
    "image2 = list()\n",
    "ticks = list()\n",
    "for node in model.data:\n",
    "    if (node==\"TB\" or node == \"LYSOSOME_VESICLE_STAGE_1\"or node == \"LYSOSOME_VESICLE_STAGE_2\"or node == \"LYSOSOME_VESICLE_STAGE_3\"or node == \"GOLGI_VESICLE_STAGE_1\"or node == \"GOLGI_VESICLE_STAGE_2\"or node == \"GOLGI_VESICLE_STAGE_3\" or node ==\"ARPC5\" or node ==\"CLAT_AP1_CLVS_PI_3_5_P2\" or node ==\"AP1G2_HGS_CHMP2A\" ):\n",
    "        print avgs[node]\n",
    "        print node\n",
    "        ticks.append(node)        \n",
    "        image2.append(avgs[node])\n",
    "plt.yticks(range(0,10), ticks)\n",
    "plt.imshow(image2, cmap=plt.cm.get_cmap('RdYlGn'), interpolation='none')\n",
    "plt.savefig('golgiandlysosome.png')"
   ]
  },
  {
   "cell_type": "code",
   "execution_count": 7,
   "metadata": {},
   "outputs": [
    {
     "name": "stdout",
     "output_type": "stream",
     "text": [
      "[1.0, 1.0, 1.0, 1.0, 1.0, 1.0, 1.0, 1.0, 1.0, 1.0, 1.0, 1.0, 1.0, 1.0, 1.0, 1.0]\n",
      "ARPC5\n",
      "[0.0, 0.0, 0.0, 0.0, 1.0, 1.0, 1.0, 1.0, 1.0, 1.0, 1.0, 1.0, 1.0, 1.0, 1.0, 1.0]\n",
      "FC_GAMMA_PHAGOCYTOSIS\n",
      "[0.0, 0.0, 1.0, 1.0, 1.0, 1.0, 1.0, 1.0, 1.0, 1.0, 1.0, 1.0, 1.0, 1.0, 1.0, 1.0]\n",
      "WASPS_COMPLEX_STAGE_2\n",
      "[0.0, 1.0, 1.0, 1.0, 1.0, 1.0, 1.0, 1.0, 1.0, 1.0, 1.0, 1.0, 1.0, 1.0, 1.0, 1.0]\n",
      "WASPS_COMPLEX_STAGE_1\n",
      "[0.0, 0.0, 0.0, 0.0, 0.0, 0.0, 0.0, 0.0, 0.0, 0.0, 0.0, 0.0, 0.0, 0.0, 0.0, 0.0]\n",
      "TB\n"
     ]
    },
    {
     "data": {
      "image/png": "[encoded data removed]",
      "text/plain": [
       "<Figure size 432x288 with 1 Axes>"
      ]
     },
     "metadata": {
      "needs_background": "light"
     },
     "output_type": "display_data"
    }
   ],
   "source": [
    "image2 = list()\n",
    "ticks = list()\n",
    "for node in model.data:\n",
    "    if (node==\"TB\" or node== \"WASPS_COMPLEX_STAGE_1\" or node == \"WASPS_COMPLEX_STAGE_2\"or node == \"FC_GAMMA_PHAGOCYTOSIS\" or node ==\"ARPC5\" ):\n",
    "        print avgs[node]\n",
    "        print node\n",
    "        ticks.append(node)\n",
    "        image2.append(avgs[node])\n",
    "plt.yticks(range(0,9), ticks)\n",
    "plt.imshow(image2, cmap=plt.cm.get_cmap('RdYlGn'), interpolation='none')\n",
    "plt.savefig('Phagocyctosisactivation.png')"
   ]
  },
  {
   "cell_type": "code",
   "execution_count": 8,
   "metadata": {},
   "outputs": [
    {
     "name": "stdout",
     "output_type": "stream",
     "text": [
      "[0.0, 0.0, 0.0, 0.0, 1.0, 1.0, 0.0, 0.0, 1.0, 1.0, 0.0, 0.0, 1.0, 1.0, 0.0, 0.0]\n",
      "ESCRT-II_CARGO_COMPLEX\n",
      "[0.0, 0.3, 0.0, 0.0, 0.0, 0.0, 0.0, 0.0, 0.0, 0.0, 0.0, 0.0, 0.0, 0.0, 0.0, 0.0]\n",
      "VCP\n",
      "[1.0, 1.0, 1.0, 1.0, 1.0, 1.0, 1.0, 1.0, 1.0, 1.0, 1.0, 1.0, 1.0, 1.0, 1.0, 1.0]\n",
      "ARPC5\n",
      "[0.0, 0.0, 0.0, 0.0, 0.0, 0.0, 0.0, 0.0, 0.0, 0.0, 0.0, 0.0, 0.0, 0.0, 0.0, 0.0]\n",
      "ESCRT-III_CARGO_COMPLEX\n",
      "[0.0, 0.0, 0.0, 0.3, 0.0, 0.0, 0.0, 0.0, 0.0, 0.0, 0.0, 0.0, 0.0, 0.0, 0.0, 0.0]\n",
      "PL_HSPA8_AUTOPHAGY_SUBSTRATE\n",
      "[0.0, 0.0, 1.0, 1.0, 0.0, 0.0, 1.0, 1.0, 0.0, 0.0, 1.0, 1.0, 0.0, 0.0, 1.0, 1.0]\n",
      "ESCRT-0_CARGO_COMPLEX\n",
      "[0.0, 0.0, 0.0, 0.0, 0.0, 0.0, 0.0, 0.0, 0.0, 0.0, 0.0, 0.0, 0.0, 0.0, 0.0, 0.0]\n",
      "TB\n",
      "[0.0, 0.0, 0.0, 1.0, 1.0, 0.0, 0.0, 1.0, 1.0, 0.0, 0.0, 1.0, 1.0, 0.0, 0.0, 1.0]\n",
      "ESCRT-I_CARGO_COMPLEX\n"
     ]
    },
    {
     "data": {
      "image/png": "[encoded data removed]",
      "text/plain": [
       "<Figure size 432x288 with 1 Axes>"
      ]
     },
     "metadata": {
      "needs_background": "light"
     },
     "output_type": "display_data"
    }
   ],
   "source": [
    "image2 = list()\n",
    "ticks = list()\n",
    "exportlist=[]\n",
    "for node in model.data:\n",
    "    if (node==\"TB\" or node== \"ESCRT-0_CARGO_COMPLEX\" or node == \"ESCRT-I_CARGO_COMPLEX\"or node == \"ESCRT-II_CARGO_COMPLEX\" or node ==\"ESCRT-III_CARGO_COMPLEX\" or node ==\"HSPA8_bound autophagic_substrates\" or node ==\"PL_HSPA8_AUTOPHAGY_SUBSTRATE\" or node ==\"ARPC5\" or node ==\"VCP\" ):\n",
    "        print avgs[node]\n",
    "        print node\n",
    "        ticks.append(node)\n",
    "        image2.append(avgs[node])\n",
    "plt.yticks(range(0,9), ticks)\n",
    "plt.imshow(image2, cmap=plt.cm.get_cmap('RdYlGn'), interpolation='none')\n",
    "plt.savefig('ESCRT.png')"
   ]
  },
  {
   "cell_type": "code",
   "execution_count": 9,
   "metadata": {},
   "outputs": [
    {
     "name": "stdout",
     "output_type": "stream",
     "text": [
      "[1.0, 1.0, 1.0, 1.0, 1.0, 1.0, 1.0, 1.0, 1.0, 1.0, 1.0, 1.0, 1.0, 1.0, 1.0, 1.0]\n",
      "ARPC5\n",
      "[0.0, 0.0, 1.0, 1.0, 1.0, 1.0, 1.0, 1.0, 1.0, 1.0, 1.0, 1.0, 1.0, 1.0, 1.0, 1.0]\n",
      "WLS_RETROMER\n",
      "[0.0, 1.0, 1.0, 1.0, 1.0, 1.0, 1.0, 1.0, 1.0, 1.0, 1.0, 1.0, 1.0, 1.0, 1.0, 1.0]\n",
      "VPS35_VPS29_VPS26\n",
      "[0.0, 0.0, 0.0, 0.0, 0.0, 0.0, 0.0, 0.0, 0.0, 0.0, 0.0, 0.0, 0.0, 0.0, 0.0, 0.0]\n",
      "TB\n"
     ]
    },
    {
     "data": {
      "image/png": "[encoded data removed]",
      "text/plain": [
       "<Figure size 432x288 with 1 Axes>"
      ]
     },
     "metadata": {
      "needs_background": "light"
     },
     "output_type": "display_data"
    }
   ],
   "source": [
    "image2 = list()\n",
    "ticks = list()\n",
    "for node in model.data:\n",
    "    if (node==\"TB\" or node ==\"ARPC5\" or node== \"WLS_RETROMER\" or node == \"VPS35_VPS29_VPS26\" ):\n",
    "        print avgs[node]\n",
    "        print node\n",
    "        ticks.append(node)\n",
    "        image2.append(avgs[node])\n",
    "plt.yticks(range(0,3), ticks)\n",
    "plt.imshow(image2, cmap=plt.cm.get_cmap('RdYlGn'), interpolation='none')\n",
    "plt.savefig('Retromer.png')"
   ]
  },
  {
   "cell_type": "code",
   "execution_count": 10,
   "metadata": {},
   "outputs": [
    {
     "name": "stdout",
     "output_type": "stream",
     "text": [
      "[0.0, 0.0, 0.0, 0.0, 0.0, 0.0, 0.0, 0.0, 0.0, 0.0, 0.0, 0.0, 0.0, 0.0, 0.0, 0.0]\n",
      "RAB1_COMPLEX_STAGE_4A\n",
      "[1.0, 1.0, 1.0, 1.0, 1.0, 1.0, 1.0, 1.0, 1.0, 1.0, 1.0, 1.0, 1.0, 1.0, 1.0, 1.0]\n",
      "ARPC5\n",
      "[0.0, 0.0, 0.0, 1.0, 1.0, 1.0, 1.0, 1.0, 1.0, 1.0, 1.0, 1.0, 1.0, 1.0, 1.0, 1.0]\n",
      "RAB1_COMPLEX_STAGE_3\n",
      "[0.0, 0.0, 1.0, 1.0, 1.0, 1.0, 1.0, 1.0, 1.0, 1.0, 1.0, 1.0, 1.0, 1.0, 1.0, 1.0]\n",
      "RAB1_COMPLEX_STAGE_2\n",
      "[0.0, 1.0, 1.0, 1.0, 1.0, 1.0, 1.0, 1.0, 1.0, 1.0, 1.0, 1.0, 1.0, 1.0, 1.0, 1.0]\n",
      "RAB1_COMPLEX_STAGE_1\n",
      "[0.0, 0.0, 0.0, 0.0, 0.0, 0.0, 0.0, 0.0, 0.0, 0.0, 0.0, 0.0, 0.0, 0.0, 0.0, 0.0]\n",
      "TB\n",
      "[0.0, 0.0, 0.0, 0.0, 0.0, 0.0, 0.0, 0.0, 0.0, 0.0, 0.0, 0.0, 0.0, 0.0, 0.0, 0.0]\n",
      "RAB1_COMPLEX_STAGE_5A\n"
     ]
    },
    {
     "data": {
      "image/png": "[encoded data removed]",
      "text/plain": [
       "<Figure size 432x288 with 1 Axes>"
      ]
     },
     "metadata": {
      "needs_background": "light"
     },
     "output_type": "display_data"
    }
   ],
   "source": [
    "image2 = list()\n",
    "ticks = list()\n",
    "for node in model.data:\n",
    "    if (node==\"TB\" or node ==\"ARPC5\" or node== \"RAB1_COMPLEX_STAGE_1\" or node == \"RAB1_COMPLEX_STAGE_2\"or node ==\"RAB1_COMPLEX_STAGE_3\" or node ==\"RAB1_COMPLEX_STAGE_4A\" or node ==\"RAB1_COMPLEX_STAGE_5A\" ):\n",
    "        print avgs[node]\n",
    "        print node\n",
    "        ticks.append(node)\n",
    "        image2.append(avgs[node])\n",
    "plt.yticks(range(0,8), ticks)\n",
    "plt.imshow(image2, cmap=plt.cm.get_cmap('RdYlGn'), interpolation='none')\n",
    "plt.savefig('RAB1.png')"
   ]
  },
  {
   "cell_type": "code",
   "execution_count": 11,
   "metadata": {},
   "outputs": [
    {
     "name": "stdout",
     "output_type": "stream",
     "text": [
      "[0.0, 0.0, 1.0, 1.0, 1.0, 1.0, 1.0, 1.0, 1.0, 1.0, 1.0, 1.0, 1.0, 1.0, 1.0, 1.0]\n",
      "EXOCYST_PATH_STAGE_2\n",
      "[0.0, 1.0, 1.0, 1.0, 1.0, 1.0, 1.0, 1.0, 1.0, 1.0, 1.0, 1.0, 1.0, 1.0, 1.0, 1.0]\n",
      "EXOCYST_COMPLEX\n",
      "[1.0, 1.0, 1.0, 1.0, 1.0, 1.0, 1.0, 1.0, 1.0, 1.0, 1.0, 1.0, 1.0, 1.0, 1.0, 1.0]\n",
      "ARPC5\n",
      "[0.0, 1.0, 1.0, 1.0, 1.0, 1.0, 1.0, 1.0, 1.0, 1.0, 1.0, 1.0, 1.0, 1.0, 1.0, 1.0]\n",
      "EXOCYST_PATH_STAGE_1\n",
      "[0.0, 0.0, 0.0, 0.0, 0.0, 0.0, 0.0, 0.0, 0.0, 0.0, 0.0, 0.0, 0.0, 0.0, 0.0, 0.0]\n",
      "TB\n"
     ]
    },
    {
     "data": {
      "image/png": "[encoded data removed]",
      "text/plain": [
       "<Figure size 432x288 with 1 Axes>"
      ]
     },
     "metadata": {
      "needs_background": "light"
     },
     "output_type": "display_data"
    }
   ],
   "source": [
    "image2 = list()\n",
    "ticks = list()\n",
    "for node in model.data:\n",
    "    if (node==\"TB\" or node ==\"ARPC5\" or node== \"EXOCYST_PATH_STAGE_1\" or node == \"EXOCYST_PATH_STAGE_2\"or node ==\"EXOCYST_COMPLEX\"):\n",
    "        print avgs[node]\n",
    "        print node\n",
    "        ticks.append(node)\n",
    "        image2.append(avgs[node])\n",
    "plt.yticks(range(0,8), ticks)\n",
    "plt.imshow(image2, cmap=plt.cm.get_cmap('RdYlGn'), interpolation='none')\n",
    "plt.savefig('exocystpath.png')"
   ]
  },
  {
   "cell_type": "code",
   "execution_count": 12,
   "metadata": {},
   "outputs": [
    {
     "name": "stdout",
     "output_type": "stream",
     "text": [
      "[1.0, 1.0, 1.0, 1.0, 1.0, 1.0, 1.0, 1.0, 1.0, 1.0, 1.0, 1.0, 1.0, 1.0, 1.0, 1.0]\n",
      "ARPC5\n",
      "[0.0, 0.0, 0.0, 0.3, 0.0, 0.0, 0.0, 0.0, 0.0, 0.0, 0.0, 0.0, 0.0, 0.0, 0.0, 0.0]\n",
      "LC3_COMPLEX_STAGE_2\n",
      "[0.0, 0.0, 0.0, 0.0, 0.3, 0.0, 0.0, 0.0, 0.0, 0.0, 0.0, 0.0, 0.0, 0.0, 0.0, 0.0]\n",
      "Autophagosome_formation\n",
      "[0.0, 0.0, 1.0, 1.0, 1.0, 1.0, 1.0, 1.0, 1.0, 1.0, 1.0, 1.0, 1.0, 1.0, 1.0, 1.0]\n",
      "LC3_COMPLEX_STAGE_1\n",
      "[0.0, 0.0, 0.0, 0.0, 0.0, 0.0, 0.0, 0.0, 0.0, 0.0, 0.0, 0.0, 0.0, 0.0, 0.0, 0.0]\n",
      "TB\n"
     ]
    },
    {
     "data": {
      "image/png": "[encoded data removed]",
      "text/plain": [
       "<Figure size 432x288 with 1 Axes>"
      ]
     },
     "metadata": {
      "needs_background": "light"
     },
     "output_type": "display_data"
    }
   ],
   "source": [
    "image2 = list()\n",
    "ticks = list()\n",
    "for node in model.data:\n",
    "    if (node==\"TB\" or node ==\"ARPC5\" or node== \"LC3_COMPLEX_STAGE_1\" or node == \"LC3_COMPLEX_STAGE_2\"or node ==\"Autophagosome_formation\"):\n",
    "        print avgs[node]\n",
    "        print node\n",
    "        ticks.append(node)\n",
    "        image2.append(avgs[node])\n",
    "plt.yticks(range(0,8), ticks)\n",
    "plt.imshow(image2, cmap=plt.cm.get_cmap('RdYlGn'), interpolation='none')\n",
    "plt.savefig('Autosomeformation.png')"
   ]
  },
  {
   "cell_type": "code",
   "execution_count": 13,
   "metadata": {},
   "outputs": [
    {
     "name": "stdout",
     "output_type": "stream",
     "text": [
      "[0.0, 1.0, 1.0, 1.0, 1.0, 1.0, 1.0, 1.0, 1.0, 1.0, 1.0, 1.0, 1.0, 1.0, 1.0, 1.0]\n",
      "RAB5COMPLEX\n",
      "[1.0, 1.0, 1.0, 1.0, 1.0, 1.0, 1.0, 1.0, 1.0, 1.0, 1.0, 1.0, 1.0, 1.0, 1.0, 1.0]\n",
      "ARPC5\n",
      "[0.0, 0.0, 0.0, 0.0, 0.0, 0.0, 0.0, 0.0, 0.0, 0.0, 0.0, 0.0, 0.0, 0.0, 0.0, 0.0]\n",
      "TB\n"
     ]
    },
    {
     "data": {
      "image/png": "[encoded data removed]",
      "text/plain": [
       "<Figure size 432x288 with 1 Axes>"
      ]
     },
     "metadata": {
      "needs_background": "light"
     },
     "output_type": "display_data"
    }
   ],
   "source": [
    "image2 = list()\n",
    "ticks = list()\n",
    "for node in model.data:\n",
    "    if (node==\"TB\" or node ==\"ARPC5\" or node== \"RAB5COMPLEX\" or node == \"RAB5_COMPLEX_STAGE_2\"):\n",
    "        print avgs[node]\n",
    "        print node\n",
    "        ticks.append(node)\n",
    "        image2.append(avgs[node])\n",
    "plt.yticks(range(0,8), ticks)\n",
    "plt.imshow(image2, cmap=plt.cm.get_cmap('RdYlGn'), interpolation='none')\n",
    "plt.savefig('Rabactivation.png')"
   ]
  },
  {
   "cell_type": "code",
   "execution_count": 14,
   "metadata": {
    "scrolled": true
   },
   "outputs": [
    {
     "name": "stdout",
     "output_type": "stream",
     "text": [
      "[0.0, 0.0, 1.0, 1.0, 0.0, 0.0, 1.0, 1.0, 0.0, 0.0, 1.0, 1.0, 0.0, 0.0, 1.0, 1.0]\n",
      "RAB7COMPLEX\n",
      "[0.0, 0.0, 0.0, 0.0, 0.3, 0.0, 0.0, 0.0, 0.0, 0.0, 0.0, 0.0, 0.0, 0.0, 0.0, 0.0]\n",
      "Autophagosome_formation\n",
      "[0.0, 0.0, 0.0, 0.0, 1.0, 1.0, 1.0, 1.0, 1.0, 1.0, 1.0, 1.0, 1.0, 1.0, 1.0, 1.0]\n",
      "LYSOSOME_VESICLE_STAGE_3\n",
      "[0.0, 0.0, 0.0, 0.0, 1.0, 1.0, 1.0, 1.0, 1.0, 1.0, 1.0, 1.0, 1.0, 1.0, 1.0, 1.0]\n",
      "FC_GAMMA_PHAGOCYTOSIS\n",
      "[0.0, 0.0, 0.3, 0.0, 0.0, 0.0, 0.0, 0.0, 0.0, 0.0, 0.0, 0.0, 0.0, 0.0, 0.0, 0.0]\n",
      "ESCRT-III\n"
     ]
    },
    {
     "data": {
      "image/png": "[encoded data removed]",
      "text/plain": [
       "<Figure size 432x288 with 1 Axes>"
      ]
     },
     "metadata": {
      "needs_background": "light"
     },
     "output_type": "display_data"
    }
   ],
   "source": [
    "#Here represnetive nodes from relevant pathways are ploted \n",
    "\n",
    "image2 = list()\n",
    "ticks = list()\n",
    "for node in model.data:\n",
    "    if ( node ==\"ESCRT-III\"  or node ==\"RAB7COMPLEX\" or node ==\"Autophagosome_formation\"  or node ==\"LYSOSOME_VESICLE_STAGE_3\" or node ==\"FC_GAMMA_PHAGOCYTOSIS\" ):\n",
    "        print avgs[node]\n",
    "        print node\n",
    "        ticks.append(node)\n",
    "        image2.append(avgs[node])\n",
    "plt.yticks(range(0,15), ticks)\n",
    "plt.imshow(image2, cmap=plt.cm.get_cmap('RdYlGn'), interpolation='none')\n",
    "plt.savefig('Hitcomplexes.pdf')"
   ]
  },
  {
   "cell_type": "code",
   "execution_count": null,
   "metadata": {},
   "outputs": [],
   "source": []
  },
  {
   "cell_type": "code",
   "execution_count": null,
   "metadata": {},
   "outputs": [],
   "source": []
  },
  {
   "cell_type": "code",
   "execution_count": null,
   "metadata": {},
   "outputs": [],
   "source": []
  }
 ],
 "metadata": {
  "kernelspec": {
   "display_name": "Python 2",
   "language": "python",
   "name": "python2"
  },
  "language_info": {
   "codemirror_mode": {
    "name": "ipython",
    "version": 2
   },
   "file_extension": ".py",
   "mimetype": "text/x-python",
   "name": "python",
   "nbconvert_exporter": "python",
   "pygments_lexer": "ipython2",
   "version": "2.7.15"
  }
 },
 "nbformat": 4,
 "nbformat_minor": 4
}
