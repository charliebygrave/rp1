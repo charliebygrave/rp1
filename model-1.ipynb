{
 "cells": [
  {
   "cell_type": "markdown",
   "metadata": {},
   "source": [
    "# string model 1 - default network"
   ]
  },
  {
   "cell_type": "code",
   "execution_count": null,
   "metadata": {},
   "outputs": [],
   "source": [
    "import boolean2_helper as bm\n",
    "import network_drawer as draw\n",
    "from model_builder_1 import string2definition, add_processes2definition, add_mtb2definition\n",
    "\n"
   ]
  },
  {
   "cell_type": "code",
   "execution_count": null,
   "metadata": {},
   "outputs": [],
   "source": [
    "mtb = [\"Eis\" , \"esxA\" ,\"esxH_esxG\" ,\"IpdC\" ,\"ndkA\" ,\"PPE2\" ,\"PstS1\" ,\"PtpA\" ,\"Rv2779c\" ,\"SapM\"]\n",
    "hit = ['AP1B1','ARL10','ASPSCR1','CHMP2A','KIF6','CLVS2','CDC42EP3','CHMP2B','GGA1','GOLT1B','HIP1R','VPS26B','PKD1L2','RIMS2','VCP']\n",
    "process = ['Phagosome_acidification','Phagosome_maturation','Phagolysosome_assembly']\n"
   ]
  },
  {
   "cell_type": "code",
   "execution_count": null,
   "metadata": {},
   "outputs": [],
   "source": [
    "definition = string2definition('string-edgelist.csv', True)\n",
    "definition = add_processes2definition(definition, 'process-edgelist.csv', True)\n",
    "hit = [factor for factor in hit if factor in definition]\n",
    "hit"
   ]
  },
  {
   "cell_type": "markdown",
   "metadata": {},
   "source": [
    "1 mtb on/off"
   ]
  },
  {
   "cell_type": "code",
   "execution_count": null,
   "metadata": {},
   "outputs": [],
   "source": [
    "mtb_off = add_mtb2definition(definition, 'mtb-edgelist.csv', False)\n",
    "mtb = [factor for factor in mtb if factor in mtb_off]\n",
    "mtb\n"
   ]
  },
  {
   "cell_type": "code",
   "execution_count": null,
   "metadata": {},
   "outputs": [],
   "source": [
    "model = bm.run_model(mtb_off)\n",
    "bm.plot_maps([model.data], nodes=process + mtb, h=4, suptitle='')"
   ]
  },
  {
   "cell_type": "code",
   "execution_count": null,
   "metadata": {},
   "outputs": [],
   "source": [
    "mtb_on = add_mtb2definition(definition, 'mtb-edgelist.csv', 'True')\n",
    "model = bm.run_model(mtb_on)\n",
    "bm.plot_maps([model.data], nodes=process + mtb, h=4, suptitle='')"
   ]
  },
  {
   "cell_type": "code",
   "execution_count": null,
   "metadata": {},
   "outputs": [],
   "source": [
    "for factor in mtb:\n",
    "    mtb_test = bm.switch(mtb_off, on=[factor])\n",
    "    model = bm.run_model(mtb_test)\n",
    "    bm.plot_maps([model.data], nodes=process + mtb, h=4, suptitle='')"
   ]
  },
  {
   "cell_type": "code",
   "execution_count": null,
   "metadata": {},
   "outputs": [],
   "source": [
    "draw.draw_edgelists('string-edgelist.csv', \n",
    "                    add_mtb='mtb-edgelist.csv', \n",
    "                    add_process='process-edgelist.csv',\n",
    "                    title='Model 1 Network',\n",
    "                    h=8\n",
    "                   )"
   ]
  },
  {
   "cell_type": "code",
   "execution_count": null,
   "metadata": {},
   "outputs": [],
   "source": []
  },
  {
   "cell_type": "code",
   "execution_count": null,
   "metadata": {},
   "outputs": [],
   "source": []
  },
  {
   "cell_type": "code",
   "execution_count": null,
   "metadata": {},
   "outputs": [],
   "source": []
  },
  {
   "cell_type": "code",
   "execution_count": null,
   "metadata": {},
   "outputs": [],
   "source": []
  },
  {
   "cell_type": "code",
   "execution_count": null,
   "metadata": {},
   "outputs": [],
   "source": []
  }
 ],
 "metadata": {
  "kernelspec": {
   "display_name": "rp1",
   "language": "python",
   "name": "rp1"
  },
  "language_info": {
   "codemirror_mode": {
    "name": "ipython",
    "version": 2
   },
   "file_extension": ".py",
   "mimetype": "text/x-python",
   "name": "python",
   "nbconvert_exporter": "python",
   "pygments_lexer": "ipython2",
   "version": "2.7.15"
  }
 },
 "nbformat": 4,
 "nbformat_minor": 2
}
